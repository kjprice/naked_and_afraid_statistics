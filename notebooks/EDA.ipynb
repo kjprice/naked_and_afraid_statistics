{
 "cells": [
  {
   "cell_type": "markdown",
   "id": "da1279a6-fd32-441f-b0b6-0247780c877e",
   "metadata": {},
   "source": [
    "TODO:\n",
    "\n",
    " - Compare duration by year by gender\n",
    " - Compare military versus scheduled duration"
   ]
  },
  {
   "cell_type": "code",
   "execution_count": 1,
   "id": "2af6fbea-3e55-41a5-9491-743e1e885939",
   "metadata": {
    "tags": []
   },
   "outputs": [],
   "source": [
    "import os"
   ]
  },
  {
   "cell_type": "code",
   "execution_count": 3,
   "id": "99f81abc-1e0c-414a-9219-5782cf83e96d",
   "metadata": {
    "tags": []
   },
   "outputs": [],
   "source": [
    "if not os.path.exists('.vscode'):\n",
    "    os.chdir('..')"
   ]
  },
  {
   "cell_type": "code",
   "execution_count": 30,
   "id": "2d8f6299-0b31-4e37-a77d-e7a9e2ca1247",
   "metadata": {},
   "outputs": [],
   "source": [
    "import pandas as pd\n",
    "import seaborn as sns"
   ]
  },
  {
   "cell_type": "code",
   "execution_count": 31,
   "id": "70fa540a-b56e-458d-b5f9-d2a4e0f54c4e",
   "metadata": {
    "tags": []
   },
   "outputs": [],
   "source": [
    "%run python/config.py # CSV_BY_CONTESTANT_FILENAME"
   ]
  },
  {
   "cell_type": "code",
   "execution_count": 36,
   "id": "74180c25-7e41-4bcb-82dd-1feae647ebee",
   "metadata": {
    "tags": []
   },
   "outputs": [],
   "source": [
    "df = pd.read_csv(CSV_BY_CONTESTANT_FILENAME)"
   ]
  },
  {
   "cell_type": "code",
   "execution_count": 33,
   "id": "ee0f3fcb-2176-4907-bc38-3958dbcba458",
   "metadata": {
    "tags": []
   },
   "outputs": [],
   "source": [
    "# df.year.plot()"
   ]
  },
  {
   "cell_type": "code",
   "execution_count": 37,
   "id": "83d9fd98-b98b-476c-89b6-4baa127d0fe0",
   "metadata": {
    "tags": []
   },
   "outputs": [
    {
     "data": {
      "text/html": [
       "<div>\n",
       "<style scoped>\n",
       "    .dataframe tbody tr th:only-of-type {\n",
       "        vertical-align: middle;\n",
       "    }\n",
       "\n",
       "    .dataframe tbody tr th {\n",
       "        vertical-align: top;\n",
       "    }\n",
       "\n",
       "    .dataframe thead th {\n",
       "        text-align: right;\n",
       "    }\n",
       "</style>\n",
       "<table border=\"1\" class=\"dataframe\">\n",
       "  <thead>\n",
       "    <tr style=\"text-align: right;\">\n",
       "      <th></th>\n",
       "      <th>seq</th>\n",
       "      <th>start_fpsr</th>\n",
       "      <th>start_mpsr</th>\n",
       "      <th>year</th>\n",
       "      <th>original_air_date</th>\n",
       "      <th>end_fpsr</th>\n",
       "      <th>season</th>\n",
       "      <th>title</th>\n",
       "      <th>location</th>\n",
       "      <th>scheduled_duration</th>\n",
       "      <th>end_mpsr</th>\n",
       "      <th>continent</th>\n",
       "      <th>name</th>\n",
       "      <th>age</th>\n",
       "      <th>duration</th>\n",
       "      <th>military</th>\n",
       "      <th>weight_loss</th>\n",
       "      <th>build</th>\n",
       "      <th>gender</th>\n",
       "    </tr>\n",
       "  </thead>\n",
       "  <tbody>\n",
       "    <tr>\n",
       "      <th>0</th>\n",
       "      <td>1</td>\n",
       "      <td>5.8</td>\n",
       "      <td>7.6</td>\n",
       "      <td>2013</td>\n",
       "      <td>2013-06-23</td>\n",
       "      <td>7.8</td>\n",
       "      <td>1</td>\n",
       "      <td>The Jungle Curse</td>\n",
       "      <td>Costa Rica</td>\n",
       "      <td>21</td>\n",
       "      <td>8.4</td>\n",
       "      <td>North America</td>\n",
       "      <td>Shane Lewis</td>\n",
       "      <td>40.0</td>\n",
       "      <td>21.0</td>\n",
       "      <td>NaN</td>\n",
       "      <td>NaN</td>\n",
       "      <td>NaN</td>\n",
       "      <td>male</td>\n",
       "    </tr>\n",
       "    <tr>\n",
       "      <th>1</th>\n",
       "      <td>1</td>\n",
       "      <td>5.8</td>\n",
       "      <td>7.6</td>\n",
       "      <td>2013</td>\n",
       "      <td>2013-06-23</td>\n",
       "      <td>7.8</td>\n",
       "      <td>1</td>\n",
       "      <td>The Jungle Curse</td>\n",
       "      <td>Costa Rica</td>\n",
       "      <td>21</td>\n",
       "      <td>8.4</td>\n",
       "      <td>North America</td>\n",
       "      <td>Kim Shelton</td>\n",
       "      <td>22.0</td>\n",
       "      <td>21.0</td>\n",
       "      <td>NaN</td>\n",
       "      <td>NaN</td>\n",
       "      <td>NaN</td>\n",
       "      <td>female</td>\n",
       "    </tr>\n",
       "    <tr>\n",
       "      <th>2</th>\n",
       "      <td>2</td>\n",
       "      <td>7.5</td>\n",
       "      <td>7.3</td>\n",
       "      <td>2013</td>\n",
       "      <td>2013-06-30</td>\n",
       "      <td>8.1</td>\n",
       "      <td>1</td>\n",
       "      <td>Terror in Tanzania</td>\n",
       "      <td>Tanzania</td>\n",
       "      <td>21</td>\n",
       "      <td>8.2</td>\n",
       "      <td>Africa</td>\n",
       "      <td>EJ Snyder</td>\n",
       "      <td>46.0</td>\n",
       "      <td>21.0</td>\n",
       "      <td>NaN</td>\n",
       "      <td>NaN</td>\n",
       "      <td>NaN</td>\n",
       "      <td>male</td>\n",
       "    </tr>\n",
       "    <tr>\n",
       "      <th>3</th>\n",
       "      <td>2</td>\n",
       "      <td>7.5</td>\n",
       "      <td>7.3</td>\n",
       "      <td>2013</td>\n",
       "      <td>2013-06-30</td>\n",
       "      <td>8.1</td>\n",
       "      <td>1</td>\n",
       "      <td>Terror in Tanzania</td>\n",
       "      <td>Tanzania</td>\n",
       "      <td>21</td>\n",
       "      <td>8.2</td>\n",
       "      <td>Africa</td>\n",
       "      <td>Kellie Nightlinger</td>\n",
       "      <td>38.0</td>\n",
       "      <td>21.0</td>\n",
       "      <td>NaN</td>\n",
       "      <td>NaN</td>\n",
       "      <td>NaN</td>\n",
       "      <td>female</td>\n",
       "    </tr>\n",
       "    <tr>\n",
       "      <th>4</th>\n",
       "      <td>3</td>\n",
       "      <td>8.0</td>\n",
       "      <td>6.9</td>\n",
       "      <td>2013</td>\n",
       "      <td>2013-07-07</td>\n",
       "      <td>8.4</td>\n",
       "      <td>1</td>\n",
       "      <td>Island From Hell</td>\n",
       "      <td>Maldives</td>\n",
       "      <td>21</td>\n",
       "      <td>7.2</td>\n",
       "      <td>Asia</td>\n",
       "      <td>Jonathan Klay</td>\n",
       "      <td>36.0</td>\n",
       "      <td>21.0</td>\n",
       "      <td>NaN</td>\n",
       "      <td>NaN</td>\n",
       "      <td>NaN</td>\n",
       "      <td>male</td>\n",
       "    </tr>\n",
       "  </tbody>\n",
       "</table>\n",
       "</div>"
      ],
      "text/plain": [
       "   seq  start_fpsr  start_mpsr  year original_air_date  end_fpsr  season  \\\n",
       "0    1         5.8         7.6  2013        2013-06-23       7.8       1   \n",
       "1    1         5.8         7.6  2013        2013-06-23       7.8       1   \n",
       "2    2         7.5         7.3  2013        2013-06-30       8.1       1   \n",
       "3    2         7.5         7.3  2013        2013-06-30       8.1       1   \n",
       "4    3         8.0         6.9  2013        2013-07-07       8.4       1   \n",
       "\n",
       "                 title    location  scheduled_duration  end_mpsr  \\\n",
       "0    The Jungle Curse   Costa Rica                  21       8.4   \n",
       "1    The Jungle Curse   Costa Rica                  21       8.4   \n",
       "2  Terror in Tanzania     Tanzania                  21       8.2   \n",
       "3  Terror in Tanzania     Tanzania                  21       8.2   \n",
       "4    Island From Hell     Maldives                  21       7.2   \n",
       "\n",
       "       continent                 name   age  duration military  weight_loss  \\\n",
       "0  North America         Shane Lewis   40.0      21.0      NaN          NaN   \n",
       "1  North America         Kim Shelton   22.0      21.0      NaN          NaN   \n",
       "2         Africa           EJ Snyder   46.0      21.0      NaN          NaN   \n",
       "3         Africa  Kellie Nightlinger   38.0      21.0      NaN          NaN   \n",
       "4           Asia       Jonathan Klay   36.0      21.0      NaN          NaN   \n",
       "\n",
       "  build  gender  \n",
       "0   NaN    male  \n",
       "1   NaN  female  \n",
       "2   NaN    male  \n",
       "3   NaN  female  \n",
       "4   NaN    male  "
      ]
     },
     "execution_count": 37,
     "metadata": {},
     "output_type": "execute_result"
    }
   ],
   "source": [
    "df.head()"
   ]
  },
  {
   "cell_type": "code",
   "execution_count": 38,
   "id": "b5ca2856-49eb-40c6-91df-599feb1630b9",
   "metadata": {
    "tags": []
   },
   "outputs": [
    {
     "data": {
      "text/html": [
       "<div>\n",
       "<style scoped>\n",
       "    .dataframe tbody tr th:only-of-type {\n",
       "        vertical-align: middle;\n",
       "    }\n",
       "\n",
       "    .dataframe tbody tr th {\n",
       "        vertical-align: top;\n",
       "    }\n",
       "\n",
       "    .dataframe thead th {\n",
       "        text-align: right;\n",
       "    }\n",
       "</style>\n",
       "<table border=\"1\" class=\"dataframe\">\n",
       "  <thead>\n",
       "    <tr style=\"text-align: right;\">\n",
       "      <th></th>\n",
       "      <th>seq</th>\n",
       "      <th>start_fpsr</th>\n",
       "      <th>start_mpsr</th>\n",
       "      <th>year</th>\n",
       "      <th>end_fpsr</th>\n",
       "      <th>season</th>\n",
       "      <th>scheduled_duration</th>\n",
       "      <th>end_mpsr</th>\n",
       "      <th>age</th>\n",
       "      <th>duration</th>\n",
       "      <th>weight_loss</th>\n",
       "    </tr>\n",
       "  </thead>\n",
       "  <tbody>\n",
       "    <tr>\n",
       "      <th>count</th>\n",
       "      <td>140.000000</td>\n",
       "      <td>140.000000</td>\n",
       "      <td>136.000000</td>\n",
       "      <td>140.000000</td>\n",
       "      <td>134.000000</td>\n",
       "      <td>140.000000</td>\n",
       "      <td>140.00000</td>\n",
       "      <td>132.000000</td>\n",
       "      <td>137.000000</td>\n",
       "      <td>136.000000</td>\n",
       "      <td>10.000000</td>\n",
       "    </tr>\n",
       "    <tr>\n",
       "      <th>mean</th>\n",
       "      <td>34.271429</td>\n",
       "      <td>6.521429</td>\n",
       "      <td>7.066176</td>\n",
       "      <td>2015.171429</td>\n",
       "      <td>6.670149</td>\n",
       "      <td>4.514286</td>\n",
       "      <td>20.90000</td>\n",
       "      <td>7.134848</td>\n",
       "      <td>32.883212</td>\n",
       "      <td>18.112500</td>\n",
       "      <td>19.800000</td>\n",
       "    </tr>\n",
       "    <tr>\n",
       "      <th>std</th>\n",
       "      <td>19.592189</td>\n",
       "      <td>0.855434</td>\n",
       "      <td>0.781567</td>\n",
       "      <td>1.335421</td>\n",
       "      <td>1.264913</td>\n",
       "      <td>2.170720</td>\n",
       "      <td>0.90004</td>\n",
       "      <td>1.390973</td>\n",
       "      <td>6.729070</td>\n",
       "      <td>5.440158</td>\n",
       "      <td>7.800285</td>\n",
       "    </tr>\n",
       "    <tr>\n",
       "      <th>min</th>\n",
       "      <td>1.000000</td>\n",
       "      <td>3.600000</td>\n",
       "      <td>4.000000</td>\n",
       "      <td>2013.000000</td>\n",
       "      <td>3.400000</td>\n",
       "      <td>1.000000</td>\n",
       "      <td>14.00000</td>\n",
       "      <td>3.200000</td>\n",
       "      <td>22.000000</td>\n",
       "      <td>2.000000</td>\n",
       "      <td>8.000000</td>\n",
       "    </tr>\n",
       "    <tr>\n",
       "      <th>25%</th>\n",
       "      <td>17.000000</td>\n",
       "      <td>6.100000</td>\n",
       "      <td>6.800000</td>\n",
       "      <td>2014.000000</td>\n",
       "      <td>6.125000</td>\n",
       "      <td>3.000000</td>\n",
       "      <td>21.00000</td>\n",
       "      <td>6.100000</td>\n",
       "      <td>28.000000</td>\n",
       "      <td>18.000000</td>\n",
       "      <td>14.250000</td>\n",
       "    </tr>\n",
       "    <tr>\n",
       "      <th>50%</th>\n",
       "      <td>34.500000</td>\n",
       "      <td>6.650000</td>\n",
       "      <td>7.150000</td>\n",
       "      <td>2015.000000</td>\n",
       "      <td>7.000000</td>\n",
       "      <td>4.000000</td>\n",
       "      <td>21.00000</td>\n",
       "      <td>7.600000</td>\n",
       "      <td>32.000000</td>\n",
       "      <td>21.000000</td>\n",
       "      <td>19.500000</td>\n",
       "    </tr>\n",
       "    <tr>\n",
       "      <th>75%</th>\n",
       "      <td>52.000000</td>\n",
       "      <td>7.100000</td>\n",
       "      <td>7.425000</td>\n",
       "      <td>2016.000000</td>\n",
       "      <td>7.500000</td>\n",
       "      <td>6.000000</td>\n",
       "      <td>21.00000</td>\n",
       "      <td>8.100000</td>\n",
       "      <td>36.000000</td>\n",
       "      <td>21.000000</td>\n",
       "      <td>25.000000</td>\n",
       "    </tr>\n",
       "    <tr>\n",
       "      <th>max</th>\n",
       "      <td>67.000000</td>\n",
       "      <td>8.200000</td>\n",
       "      <td>8.400000</td>\n",
       "      <td>2017.000000</td>\n",
       "      <td>9.100000</td>\n",
       "      <td>8.000000</td>\n",
       "      <td>23.00000</td>\n",
       "      <td>9.100000</td>\n",
       "      <td>55.000000</td>\n",
       "      <td>25.000000</td>\n",
       "      <td>30.000000</td>\n",
       "    </tr>\n",
       "  </tbody>\n",
       "</table>\n",
       "</div>"
      ],
      "text/plain": [
       "              seq  start_fpsr  start_mpsr         year    end_fpsr  \\\n",
       "count  140.000000  140.000000  136.000000   140.000000  134.000000   \n",
       "mean    34.271429    6.521429    7.066176  2015.171429    6.670149   \n",
       "std     19.592189    0.855434    0.781567     1.335421    1.264913   \n",
       "min      1.000000    3.600000    4.000000  2013.000000    3.400000   \n",
       "25%     17.000000    6.100000    6.800000  2014.000000    6.125000   \n",
       "50%     34.500000    6.650000    7.150000  2015.000000    7.000000   \n",
       "75%     52.000000    7.100000    7.425000  2016.000000    7.500000   \n",
       "max     67.000000    8.200000    8.400000  2017.000000    9.100000   \n",
       "\n",
       "           season  scheduled_duration    end_mpsr         age    duration  \\\n",
       "count  140.000000           140.00000  132.000000  137.000000  136.000000   \n",
       "mean     4.514286            20.90000    7.134848   32.883212   18.112500   \n",
       "std      2.170720             0.90004    1.390973    6.729070    5.440158   \n",
       "min      1.000000            14.00000    3.200000   22.000000    2.000000   \n",
       "25%      3.000000            21.00000    6.100000   28.000000   18.000000   \n",
       "50%      4.000000            21.00000    7.600000   32.000000   21.000000   \n",
       "75%      6.000000            21.00000    8.100000   36.000000   21.000000   \n",
       "max      8.000000            23.00000    9.100000   55.000000   25.000000   \n",
       "\n",
       "       weight_loss  \n",
       "count    10.000000  \n",
       "mean     19.800000  \n",
       "std       7.800285  \n",
       "min       8.000000  \n",
       "25%      14.250000  \n",
       "50%      19.500000  \n",
       "75%      25.000000  \n",
       "max      30.000000  "
      ]
     },
     "execution_count": 38,
     "metadata": {},
     "output_type": "execute_result"
    }
   ],
   "source": [
    "df.describe()"
   ]
  },
  {
   "cell_type": "code",
   "execution_count": 40,
   "id": "39c5f8ae-9b95-4891-b0ca-84d19cd6704b",
   "metadata": {
    "tags": []
   },
   "outputs": [
    {
     "data": {
      "text/plain": [
       "duration    Axes(0.125,0.11;0.775x0.77)\n",
       "dtype: object"
      ]
     },
     "execution_count": 40,
     "metadata": {},
     "output_type": "execute_result"
    },
    {
     "data": {
      "image/png": "[encoded data removed]",
      "text/plain": [
       "<Figure size 640x480 with 1 Axes>"
      ]
     },
     "metadata": {},
     "output_type": "display_data"
    }
   ],
   "source": [
    "# df.groupby('year').female_duration.plot.box()\n",
    "df.plot.box(column='duration', by='year')"
   ]
  },
  {
   "cell_type": "code",
   "execution_count": 41,
   "id": "24405b1d-1831-4729-9331-beb664deceac",
   "metadata": {
    "tags": []
   },
   "outputs": [],
   "source": [
    "# df.year==2013"
   ]
  },
  {
   "cell_type": "code",
   "execution_count": 42,
   "id": "c340769e-bec5-4dda-80b8-a0a7aba0f170",
   "metadata": {
    "tags": []
   },
   "outputs": [
    {
     "data": {
      "text/plain": [
       "0     21.0\n",
       "1     21.0\n",
       "2     21.0\n",
       "3     21.0\n",
       "4     21.0\n",
       "5     21.0\n",
       "6     21.0\n",
       "7     21.0\n",
       "8      9.0\n",
       "9     18.0\n",
       "10    21.0\n",
       "11    21.0\n",
       "12    21.0\n",
       "13    21.0\n",
       "14    21.0\n",
       "15    21.0\n",
       "Name: duration, dtype: float64"
      ]
     },
     "execution_count": 42,
     "metadata": {},
     "output_type": "execute_result"
    }
   ],
   "source": [
    "df[df.year==2013]['duration']"
   ]
  },
  {
   "cell_type": "code",
   "execution_count": 18,
   "id": "f1ac4602-deb5-48fc-bcab-b6e8ecf3ea7d",
   "metadata": {
    "tags": []
   },
   "outputs": [],
   "source": [
    "dur=df.female_duration"
   ]
  },
  {
   "cell_type": "code",
   "execution_count": 43,
   "id": "e0b0106b-40c0-4123-87cf-15cd82ff4cf6",
   "metadata": {
    "tags": []
   },
   "outputs": [
    {
     "data": {
      "text/plain": [
       "<Axes: xlabel='season', ylabel='duration'>"
      ]
     },
     "execution_count": 43,
     "metadata": {},
     "output_type": "execute_result"
    },
    {
     "data": {
      "image/png": "[encoded data removed]",
      "text/plain": [
       "<Figure size 640x480 with 1 Axes>"
      ]
     },
     "metadata": {},
     "output_type": "display_data"
    }
   ],
   "source": [
    "sns.scatterplot(data=df, x=\"season\", y=\"duration\", hue=\"gender\")"
   ]
  },
  {
   "cell_type": "code",
   "execution_count": 44,
   "id": "c45bfc17-27e0-4600-9063-3fd81cf37201",
   "metadata": {
    "tags": []
   },
   "outputs": [
    {
     "data": {
      "text/plain": [
       "<Axes: xlabel='season', ylabel='start_fpsr'>"
      ]
     },
     "execution_count": 44,
     "metadata": {},
     "output_type": "execute_result"
    },
    {
     "data": {
      "image/png": "[encoded data removed]",
      "text/plain": [
       "<Figure size 640x480 with 1 Axes>"
      ]
     },
     "metadata": {},
     "output_type": "display_data"
    }
   ],
   "source": [
    "sns.scatterplot(data=df, x=\"season\", y=\"start_fpsr\", hue=\"gender\")\n"
   ]
  },
  {
   "cell_type": "code",
   "execution_count": null,
   "id": "401c4688-3dca-495d-80cd-0ef86a3b053a",
   "metadata": {},
   "outputs": [],
   "source": []
  }
 ],
 "metadata": {
  "kernelspec": {
   "display_name": "naked_and_afraid",
   "language": "python",
   "name": "naked_and_afraid"
  },
  "language_info": {
   "codemirror_mode": {
    "name": "ipython",
    "version": 3
   },
   "file_extension": ".py",
   "mimetype": "text/x-python",
   "name": "python",
   "nbconvert_exporter": "python",
   "pygments_lexer": "ipython3",
   "version": "3.11.3"
  }
 },
 "nbformat": 4,
 "nbformat_minor": 5
}
